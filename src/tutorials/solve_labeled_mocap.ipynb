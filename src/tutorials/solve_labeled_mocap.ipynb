{
 "cells": [
  {
   "cell_type": "markdown",
   "source": [
    "# Solving MoCap Sequences\n",
    "It might be the case that you have an already labeled mocap dataset and you want to simply \"mosh\" it.\n",
    "Here we take\n",
    "[SOMA dataset's manually labeled mocaps](https://download.is.tue.mpg.de/download.php?domain=soma&sfile=evaluation_mocaps/original/SOMA_dataset/SOMA_manual_labeled.tar.bz2)\n",
    "as a sample case study and provide a code snippet to just mosh it.\n",
    "Please have in mind that we can also process your mocaps for you in case you agree to release them under\n",
    "[AMASS](https://amass.is.tue.mpg.de/)\n",
    "for research purposes.\n",
    "\n",
    "Furthermore, note that our goal is to simply mosh a dataset without considering comparability with other mosh runs;\n",
    "i.e. you cannot compare these results with SOMA experiments. For that refer to special mosh run presented in\n",
    "[here](run_soma_on_soma_dataset.ipynb).\n",
    "\n",
    "Finally, the same code can be used for rendering the MoSh results as well. Enjoy!"
   ],
   "metadata": {
    "collapsed": false
   }
  },
  {
   "cell_type": "code",
   "execution_count": 2,
   "metadata": {
    "collapsed": false,
    "pycharm": {
     "name": "#%%\n"
    },
    "ExecuteTime": {
     "end_time": "2023-11-13T16:23:12.766958748Z",
     "start_time": "2023-11-13T16:23:08.602140058Z"
    }
   },
   "outputs": [
    {
     "name": "stderr",
     "output_type": "stream",
     "text": [
      "/home/leyang/anaconda3/envs/soma/lib/python3.7/site-packages/tqdm/auto.py:21: TqdmWarning: IProgress not found. Please update jupyter and ipywidgets. See https://ipywidgets.readthedocs.io/en/stable/user_install.html\n",
      "  from .autonotebook import tqdm as notebook_tqdm\n"
     ]
    }
   ],
   "source": [
    "import os.path as osp\n",
    "from glob import glob\n",
    "\n",
    "import numpy as np\n",
    "from loguru import logger\n",
    "\n",
    "from soma.amass.mosh_manual import mosh_manual"
   ]
  },
  {
   "cell_type": "code",
   "execution_count": 4,
   "metadata": {
    "pycharm": {
     "name": "#%%\n"
    },
    "tags": [],
    "ExecuteTime": {
     "end_time": "2023-11-13T16:28:05.864553985Z",
     "start_time": "2023-11-13T16:28:05.826730752Z"
    }
   },
   "outputs": [
    {
     "name": "stderr",
     "output_type": "stream",
     "text": [
      "\u001B[32m2023-11-13 11:28:05.821\u001B[0m | \u001B[1mINFO    \u001B[0m | \u001B[36m__main__\u001B[0m:\u001B[36m<module>\u001B[0m:\u001B[36m13\u001B[0m - \u001B[1m#mocaps found for SOMA_manual_labeled: 0\u001B[0m\n",
      "\u001B[32m2023-11-13 11:28:05.823\u001B[0m | \u001B[1mINFO    \u001B[0m | \u001B[36msoma.amass.mosh_manual\u001B[0m:\u001B[36mmosh_manual\u001B[0m:\u001B[36m107\u001B[0m - \u001B[1mSubmitting MoSh++ jobs.\u001B[0m\n",
      "\u001B[32m2023-11-13 11:28:05.841\u001B[0m | \u001B[1mINFO    \u001B[0m | \u001B[36msoma.tools.parallel_tools\u001B[0m:\u001B[36mrun_parallel_jobs\u001B[0m:\u001B[36m54\u001B[0m - \u001B[1m#Job(s) submitted: 0\u001B[0m\n",
      "\u001B[32m2023-11-13 11:28:05.842\u001B[0m | \u001B[1mINFO    \u001B[0m | \u001B[36msoma.tools.parallel_tools\u001B[0m:\u001B[36mrun_parallel_jobs\u001B[0m:\u001B[36m58\u001B[0m - \u001B[1mmax_num_jobs is set to 1. choosing the first #Job(s): 0\u001B[0m\n",
      "\u001B[32m2023-11-13 11:28:05.844\u001B[0m | \u001B[1mINFO    \u001B[0m | \u001B[36msoma.tools.parallel_tools\u001B[0m:\u001B[36mrun_parallel_jobs\u001B[0m:\u001B[36m67\u001B[0m - \u001B[1mWill run the jobs in random order.\u001B[0m\n"
     ]
    }
   ],
   "source": [
    "soma_work_base_dir = r'/home/leyang/Documents/soma/support_data/Test-Leyang'\n",
    "support_base_dir = osp.join(soma_work_base_dir, 'support_files')\n",
    "\n",
    "mocap_base_dir = osp.join(support_base_dir, 'evaluation_mocaps/original')\n",
    "\n",
    "work_base_dir = osp.join(soma_work_base_dir, 'running_just_mosh')\n",
    "\n",
    "target_ds_names = ['SOMA_manual_labeled',]\n",
    "\n",
    "for ds_name in target_ds_names:\n",
    "    mocap_fnames = glob(osp.join(mocap_base_dir, ds_name,  '*/*.c3d'))\n",
    "\n",
    "    logger.info(f'#mocaps found for {ds_name}: {len(mocap_fnames)}')\n",
    "\n",
    "    mosh_manual(\n",
    "        mocap_fnames,\n",
    "        mosh_cfg={\n",
    "            'moshpp.verbosity': 1, # set to 2 to visulaize the process in meshviewer\n",
    "            'dirs.work_base_dir': osp.join(work_base_dir, 'mosh_results'),\n",
    "            'dirs.support_base_dir': support_base_dir,\n",
    "        },\n",
    "        render_cfg={\n",
    "            'dirs.work_base_dir': osp.join(work_base_dir, 'mp4_renders'),\n",
    "            'render.render_engine': 'eevee',  # eevee / cycles,\n",
    "            # 'render.render_engine': 'cycles',  # eevee / cycles,\n",
    "            'render.show_markers': True,\n",
    "            # 'render.save_final_blend_file': True\n",
    "            'dirs.support_base_dir': support_base_dir,\n",
    "\n",
    "        },\n",
    "        parallel_cfg={\n",
    "            'pool_size': 1,\n",
    "            'max_num_jobs': 1,\n",
    "            'randomly_run_jobs': True,\n",
    "        },\n",
    "        run_tasks=[\n",
    "            'mosh',\n",
    "            # 'render',\n",
    "        ],\n",
    "        # fast_dev_run=True,\n",
    "    )\n"
   ]
  },
  {
   "cell_type": "code",
   "execution_count": null,
   "outputs": [],
   "source": [],
   "metadata": {
    "collapsed": false
   }
  }
 ],
 "metadata": {
  "kernelspec": {
   "display_name": "Python 3 (ipykernel)",
   "language": "python",
   "name": "python3"
  },
  "language_info": {
   "codemirror_mode": {
    "name": "ipython",
    "version": 3
   },
   "file_extension": ".py",
   "mimetype": "text/x-python",
   "name": "python",
   "nbconvert_exporter": "python",
   "pygments_lexer": "ipython3",
   "version": "3.7.11"
  }
 },
 "nbformat": 4,
 "nbformat_minor": 4
}
